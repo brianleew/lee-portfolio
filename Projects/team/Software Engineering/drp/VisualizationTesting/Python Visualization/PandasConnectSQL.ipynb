{
 "cells": [
  {
   "cell_type": "code",
   "execution_count": 1,
   "id": "ce5fd8c6",
   "metadata": {},
   "outputs": [],
   "source": [
    "from sqlalchemy import create_engine\n",
    "import pandas as pd\n",
    "import numpy as np\n",
    "from pandas import read_csv\n",
    "import pyodbc\n",
    "from sqlalchemy import create_engine,text\n"
   ]
  },
  {
   "cell_type": "code",
   "execution_count": 2,
   "id": "426122b5",
   "metadata": {},
   "outputs": [],
   "source": [
    "data = read_csv(\"2021-all-meter.csv\",index_col=0)"
   ]
  },
  {
   "cell_type": "code",
   "execution_count": 3,
   "id": "e8df79a6",
   "metadata": {},
   "outputs": [
    {
     "data": {
      "text/html": [
       "<div>\n",
       "<style scoped>\n",
       "    .dataframe tbody tr th:only-of-type {\n",
       "        vertical-align: middle;\n",
       "    }\n",
       "\n",
       "    .dataframe tbody tr th {\n",
       "        vertical-align: top;\n",
       "    }\n",
       "\n",
       "    .dataframe thead th {\n",
       "        text-align: right;\n",
       "    }\n",
       "</style>\n",
       "<table border=\"1\" class=\"dataframe\">\n",
       "  <thead>\n",
       "    <tr style=\"text-align: right;\">\n",
       "      <th></th>\n",
       "      <th>AMI Meter ID</th>\n",
       "      <th>date</th>\n",
       "      <th>16335457</th>\n",
       "      <th>18762999</th>\n",
       "      <th>230156289</th>\n",
       "      <th>56068032</th>\n",
       "      <th>56073008</th>\n",
       "      <th>56210792</th>\n",
       "      <th>56464971</th>\n",
       "      <th>66675284</th>\n",
       "      <th>...</th>\n",
       "      <th>98828750</th>\n",
       "      <th>98923621</th>\n",
       "      <th>98923641</th>\n",
       "      <th>98923648</th>\n",
       "      <th>98923655</th>\n",
       "      <th>98923661</th>\n",
       "      <th>98923662</th>\n",
       "      <th>98923663</th>\n",
       "      <th>Residential</th>\n",
       "      <th>Total</th>\n",
       "    </tr>\n",
       "  </thead>\n",
       "  <tbody>\n",
       "    <tr>\n",
       "      <th>0</th>\n",
       "      <td>2021-03-21 00:00:00</td>\n",
       "      <td>2021-03-21 00:30:00</td>\n",
       "      <td>104.192</td>\n",
       "      <td>28.649</td>\n",
       "      <td>46.68</td>\n",
       "      <td>13.104</td>\n",
       "      <td>9.195</td>\n",
       "      <td>373.44</td>\n",
       "      <td>19.656</td>\n",
       "      <td>5.491</td>\n",
       "      <td>...</td>\n",
       "      <td>20.640</td>\n",
       "      <td>0.324</td>\n",
       "      <td>15.228</td>\n",
       "      <td>16.212</td>\n",
       "      <td>47.430</td>\n",
       "      <td>51.60</td>\n",
       "      <td>16.35</td>\n",
       "      <td>21.624</td>\n",
       "      <td>67808.216</td>\n",
       "      <td>71482.267</td>\n",
       "    </tr>\n",
       "    <tr>\n",
       "      <th>1</th>\n",
       "      <td>2021-03-21 00:30:00</td>\n",
       "      <td>2021-03-21 01:00:00</td>\n",
       "      <td>104.848</td>\n",
       "      <td>28.578</td>\n",
       "      <td>51.60</td>\n",
       "      <td>15.728</td>\n",
       "      <td>9.810</td>\n",
       "      <td>373.44</td>\n",
       "      <td>20.640</td>\n",
       "      <td>6.278</td>\n",
       "      <td>...</td>\n",
       "      <td>21.624</td>\n",
       "      <td>0.324</td>\n",
       "      <td>14.736</td>\n",
       "      <td>15.228</td>\n",
       "      <td>39.198</td>\n",
       "      <td>46.68</td>\n",
       "      <td>16.35</td>\n",
       "      <td>17.688</td>\n",
       "      <td>67808.216</td>\n",
       "      <td>71395.502</td>\n",
       "    </tr>\n",
       "    <tr>\n",
       "      <th>2</th>\n",
       "      <td>2021-03-21 01:00:00</td>\n",
       "      <td>2021-03-21 01:30:00</td>\n",
       "      <td>106.160</td>\n",
       "      <td>29.929</td>\n",
       "      <td>55.29</td>\n",
       "      <td>14.416</td>\n",
       "      <td>8.580</td>\n",
       "      <td>375.96</td>\n",
       "      <td>19.656</td>\n",
       "      <td>7.853</td>\n",
       "      <td>...</td>\n",
       "      <td>9.338</td>\n",
       "      <td>0.160</td>\n",
       "      <td>15.228</td>\n",
       "      <td>14.244</td>\n",
       "      <td>40.976</td>\n",
       "      <td>44.22</td>\n",
       "      <td>14.30</td>\n",
       "      <td>18.180</td>\n",
       "      <td>68586.253</td>\n",
       "      <td>72266.724</td>\n",
       "    </tr>\n",
       "    <tr>\n",
       "      <th>3</th>\n",
       "      <td>2021-03-21 01:30:00</td>\n",
       "      <td>2021-03-21 02:00:00</td>\n",
       "      <td>104.192</td>\n",
       "      <td>29.488</td>\n",
       "      <td>50.37</td>\n",
       "      <td>16.384</td>\n",
       "      <td>11.040</td>\n",
       "      <td>378.36</td>\n",
       "      <td>18.672</td>\n",
       "      <td>6.278</td>\n",
       "      <td>...</td>\n",
       "      <td>9.418</td>\n",
       "      <td>0.324</td>\n",
       "      <td>14.736</td>\n",
       "      <td>14.244</td>\n",
       "      <td>42.165</td>\n",
       "      <td>44.22</td>\n",
       "      <td>16.35</td>\n",
       "      <td>16.704</td>\n",
       "      <td>68586.253</td>\n",
       "      <td>72069.140</td>\n",
       "    </tr>\n",
       "    <tr>\n",
       "      <th>4</th>\n",
       "      <td>2021-03-21 02:00:00</td>\n",
       "      <td>2021-03-21 02:30:00</td>\n",
       "      <td>104.192</td>\n",
       "      <td>28.645</td>\n",
       "      <td>52.83</td>\n",
       "      <td>15.728</td>\n",
       "      <td>12.270</td>\n",
       "      <td>375.96</td>\n",
       "      <td>20.640</td>\n",
       "      <td>4.704</td>\n",
       "      <td>...</td>\n",
       "      <td>8.928</td>\n",
       "      <td>0.324</td>\n",
       "      <td>15.228</td>\n",
       "      <td>16.212</td>\n",
       "      <td>50.782</td>\n",
       "      <td>46.68</td>\n",
       "      <td>18.40</td>\n",
       "      <td>18.180</td>\n",
       "      <td>71152.560</td>\n",
       "      <td>74632.641</td>\n",
       "    </tr>\n",
       "  </tbody>\n",
       "</table>\n",
       "<p>5 rows × 55 columns</p>\n",
       "</div>"
      ],
      "text/plain": [
       "          AMI Meter ID                 date  16335457  18762999  230156289  \\\n",
       "0  2021-03-21 00:00:00  2021-03-21 00:30:00   104.192    28.649      46.68   \n",
       "1  2021-03-21 00:30:00  2021-03-21 01:00:00   104.848    28.578      51.60   \n",
       "2  2021-03-21 01:00:00  2021-03-21 01:30:00   106.160    29.929      55.29   \n",
       "3  2021-03-21 01:30:00  2021-03-21 02:00:00   104.192    29.488      50.37   \n",
       "4  2021-03-21 02:00:00  2021-03-21 02:30:00   104.192    28.645      52.83   \n",
       "\n",
       "   56068032  56073008  56210792  56464971  66675284  ...  98828750  98923621  \\\n",
       "0    13.104     9.195    373.44    19.656     5.491  ...    20.640     0.324   \n",
       "1    15.728     9.810    373.44    20.640     6.278  ...    21.624     0.324   \n",
       "2    14.416     8.580    375.96    19.656     7.853  ...     9.338     0.160   \n",
       "3    16.384    11.040    378.36    18.672     6.278  ...     9.418     0.324   \n",
       "4    15.728    12.270    375.96    20.640     4.704  ...     8.928     0.324   \n",
       "\n",
       "   98923641  98923648  98923655  98923661  98923662  98923663  Residential  \\\n",
       "0    15.228    16.212    47.430     51.60     16.35    21.624    67808.216   \n",
       "1    14.736    15.228    39.198     46.68     16.35    17.688    67808.216   \n",
       "2    15.228    14.244    40.976     44.22     14.30    18.180    68586.253   \n",
       "3    14.736    14.244    42.165     44.22     16.35    16.704    68586.253   \n",
       "4    15.228    16.212    50.782     46.68     18.40    18.180    71152.560   \n",
       "\n",
       "       Total  \n",
       "0  71482.267  \n",
       "1  71395.502  \n",
       "2  72266.724  \n",
       "3  72069.140  \n",
       "4  74632.641  \n",
       "\n",
       "[5 rows x 55 columns]"
      ]
     },
     "execution_count": 3,
     "metadata": {},
     "output_type": "execute_result"
    }
   ],
   "source": [
    "data.head()"
   ]
  },
  {
   "cell_type": "code",
   "execution_count": 4,
   "id": "a291d2ae",
   "metadata": {},
   "outputs": [],
   "source": [
    "ar = []\n",
    "for i in range(0,data.shape[0],1):\n",
    "    for c in data.select_dtypes(include=np.number).columns:\n",
    "        ar.append([c,data.iloc[[i]][\"AMI Meter ID\"].values[0], data.iloc[[i]][\"date\"].values[0], int(data.iloc[[i]][c].values)])\n",
    "\n",
    "SQLData = pd.DataFrame(ar)\n"
   ]
  },
  {
   "cell_type": "code",
   "execution_count": 5,
   "id": "b8794163",
   "metadata": {},
   "outputs": [],
   "source": [
    "SQLData.rename(columns = {0:\"meter_name\", 1:\"start_time\",2:\"end_time\", 3:\"value\"}, inplace = True)"
   ]
  },
  {
   "cell_type": "code",
   "execution_count": 6,
   "id": "e4df1463",
   "metadata": {},
   "outputs": [
    {
     "data": {
      "text/html": [
       "<div>\n",
       "<style scoped>\n",
       "    .dataframe tbody tr th:only-of-type {\n",
       "        vertical-align: middle;\n",
       "    }\n",
       "\n",
       "    .dataframe tbody tr th {\n",
       "        vertical-align: top;\n",
       "    }\n",
       "\n",
       "    .dataframe thead th {\n",
       "        text-align: right;\n",
       "    }\n",
       "</style>\n",
       "<table border=\"1\" class=\"dataframe\">\n",
       "  <thead>\n",
       "    <tr style=\"text-align: right;\">\n",
       "      <th></th>\n",
       "      <th>meter_name</th>\n",
       "      <th>start_time</th>\n",
       "      <th>end_time</th>\n",
       "      <th>value</th>\n",
       "    </tr>\n",
       "  </thead>\n",
       "  <tbody>\n",
       "    <tr>\n",
       "      <th>0</th>\n",
       "      <td>16335457</td>\n",
       "      <td>2021-03-21 00:00:00</td>\n",
       "      <td>2021-03-21 00:30:00</td>\n",
       "      <td>104</td>\n",
       "    </tr>\n",
       "    <tr>\n",
       "      <th>1</th>\n",
       "      <td>18762999</td>\n",
       "      <td>2021-03-21 00:00:00</td>\n",
       "      <td>2021-03-21 00:30:00</td>\n",
       "      <td>28</td>\n",
       "    </tr>\n",
       "    <tr>\n",
       "      <th>2</th>\n",
       "      <td>230156289</td>\n",
       "      <td>2021-03-21 00:00:00</td>\n",
       "      <td>2021-03-21 00:30:00</td>\n",
       "      <td>46</td>\n",
       "    </tr>\n",
       "    <tr>\n",
       "      <th>3</th>\n",
       "      <td>56068032</td>\n",
       "      <td>2021-03-21 00:00:00</td>\n",
       "      <td>2021-03-21 00:30:00</td>\n",
       "      <td>13</td>\n",
       "    </tr>\n",
       "    <tr>\n",
       "      <th>4</th>\n",
       "      <td>56073008</td>\n",
       "      <td>2021-03-21 00:00:00</td>\n",
       "      <td>2021-03-21 00:30:00</td>\n",
       "      <td>9</td>\n",
       "    </tr>\n",
       "  </tbody>\n",
       "</table>\n",
       "</div>"
      ],
      "text/plain": [
       "  meter_name           start_time             end_time  value\n",
       "0   16335457  2021-03-21 00:00:00  2021-03-21 00:30:00    104\n",
       "1   18762999  2021-03-21 00:00:00  2021-03-21 00:30:00     28\n",
       "2  230156289  2021-03-21 00:00:00  2021-03-21 00:30:00     46\n",
       "3   56068032  2021-03-21 00:00:00  2021-03-21 00:30:00     13\n",
       "4   56073008  2021-03-21 00:00:00  2021-03-21 00:30:00      9"
      ]
     },
     "execution_count": 6,
     "metadata": {},
     "output_type": "execute_result"
    }
   ],
   "source": [
    "SQLData.head()"
   ]
  },
  {
   "cell_type": "code",
   "execution_count": 7,
   "id": "7a15981a",
   "metadata": {},
   "outputs": [
    {
     "data": {
      "text/plain": [
       "(445200, 4)"
      ]
     },
     "execution_count": 7,
     "metadata": {},
     "output_type": "execute_result"
    }
   ],
   "source": [
    "SQLData.shape"
   ]
  },
  {
   "cell_type": "code",
   "execution_count": 8,
   "id": "5bdfb2a9",
   "metadata": {
    "scrolled": false
   },
   "outputs": [
    {
     "data": {
      "text/plain": [
       "445200"
      ]
     },
     "execution_count": 8,
     "metadata": {},
     "output_type": "execute_result"
    }
   ],
   "source": [
    "# IMPORT THE SQALCHEMY LIBRARY's CREATE_ENGINE METHOD\n",
    "\n",
    "\n",
    "# DEFINE THE DATABASE CREDENTIALS\n",
    "user = 'root'\n",
    "password = 'NewPassword'\n",
    "host = '127.0.0.1'\n",
    "port = 3306\n",
    "database = 'demand_response_portal'\n",
    "\n",
    "# PYTHON FUNCTION TO CONNECT TO THE MYSQL DATABASE AND\n",
    "# RETURN THE SQLACHEMY ENGINE OBJECT\n",
    "def get_connection():\n",
    "    return create_engine(\n",
    "        url=\"mysql://{0}:{1}@{2}:{3}/{4}\".format(\n",
    "            user, password, host, port, database\n",
    "        )\n",
    "    )\n",
    "\n",
    "#pyodbc.\n",
    "#if __name__ == '__main__':\n",
    "engine = []\n",
    "\n",
    "# GET THE CONNECTION OBJECT (ENGINE) FOR THE DATABASE\n",
    "engine = get_connection()\n",
    "conn = engine.connect()\n",
    "SQLData.to_sql('meter_data', con=engine, if_exists='replace')\n",
    "\n"
   ]
  },
  {
   "cell_type": "code",
   "execution_count": 9,
   "id": "c671e1f2",
   "metadata": {},
   "outputs": [],
   "source": [
    "query = text(\"select meter_data.meter_name, meter_data.value from meter_data where meter_data.meter_name = 'Total'\")\n",
    "GetSQLTest = pd.read_sql_query(query,conn)"
   ]
  },
  {
   "cell_type": "code",
   "execution_count": 10,
   "id": "efefda99",
   "metadata": {},
   "outputs": [
    {
     "data": {
      "text/plain": [
       "8400"
      ]
     },
     "execution_count": 10,
     "metadata": {},
     "output_type": "execute_result"
    }
   ],
   "source": [
    "GetSQLTest[\"value\"].count()"
   ]
  }
 ],
 "metadata": {
  "kernelspec": {
   "display_name": "Python 3 (ipykernel)",
   "language": "python",
   "name": "python3"
  },
  "language_info": {
   "codemirror_mode": {
    "name": "ipython",
    "version": 3
   },
   "file_extension": ".py",
   "mimetype": "text/x-python",
   "name": "python",
   "nbconvert_exporter": "python",
   "pygments_lexer": "ipython3",
   "version": "3.11.0"
  }
 },
 "nbformat": 4,
 "nbformat_minor": 5
}
